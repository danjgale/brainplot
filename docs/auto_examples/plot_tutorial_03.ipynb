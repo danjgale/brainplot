{
  "cells": [
    {
      "cell_type": "code",
      "execution_count": null,
      "metadata": {
        "collapsed": false
      },
      "outputs": [],
      "source": [
        "%matplotlib inline"
      ]
    },
    {
      "cell_type": "markdown",
      "metadata": {},
      "source": [
        "\n\n# Tutorial 3: Types of Input Data\n\nThis tutorial covers what types of data can be passed to the `data` parameter\nof the :func:`~brainspace.plotting.Plot.add_layer` method of \n:class:`~brainspace.plotting.Plot`.\n\n`data` accepts four different types of data:\n\n1. A numpy array of vertex data\n2. A file path of a valid GIFTI or CIFTI file \n3. Instances of ``nibabel.gifti.gifti.GiftiImage`` or ``nibabel.cifti2.cifti2.Cifti2Image``\n4. A dictionary with 'left' and/or 'right' keys to explicity assign any of the above data types to either hemisphere.\n\nThis flexibility makes it easy to plot any surface data by accommodating both \nGIFTI and CIFTI data. Let's dig into this further.\n\n## Getting data\n\nHere we'll reuse the Conte69 fsLR surfaces and Freesurfer sulc maps we used in \n`sphx_glr_auto_examples_plot_tutorial_01.py`, both of which are \ndownloaded via ``neuromaps``. We'll also reuse the example data. \n"
      ]
    },
    {
      "cell_type": "code",
      "execution_count": null,
      "metadata": {
        "collapsed": false
      },
      "outputs": [],
      "source": [
        "from neuromaps.datasets import fetch_fslr\nfrom surfplot.datasets import load_example_data\n\nsurfaces = fetch_fslr()\nlh, rh = surfaces['inflated']"
      ]
    },
    {
      "cell_type": "markdown",
      "metadata": {},
      "source": [
        "## Arrays\n\nA numpy array can be passed to `data` in the \n:func:`~brainspace.plotting.Plot.add_layer` method. Importantly, the length \nof this array **must equal the total number of vertices of the hemispheres \nthat are plotted.** With our surfaces, we can check their vertices using \n``nibabel``:\n\n"
      ]
    },
    {
      "cell_type": "code",
      "execution_count": null,
      "metadata": {
        "collapsed": false
      },
      "outputs": [],
      "source": [
        "import nibabel as nib\nprint('left', nib.load(lh).darrays[0].dims)\nprint('right', nib.load(rh).darrays[0].dims)"
      ]
    },
    {
      "cell_type": "markdown",
      "metadata": {},
      "source": [
        "Therefore, our data must have a length of 32492 + 32492 = 64984 if we want\nto plot both hemispheres. Let's check this first:\n\n"
      ]
    },
    {
      "cell_type": "code",
      "execution_count": null,
      "metadata": {
        "collapsed": false
      },
      "outputs": [],
      "source": [
        "# return a single concatenated array from both hemispheres\ndata = load_example_data(join=True)\nprint(len(data) == 64984)"
      ]
    },
    {
      "cell_type": "markdown",
      "metadata": {},
      "source": [
        "Perfect, now let's plot: \n\n"
      ]
    },
    {
      "cell_type": "code",
      "execution_count": null,
      "metadata": {
        "collapsed": false
      },
      "outputs": [],
      "source": [
        "from surfplot import Plot\n\np = Plot(surf_lh=lh, surf_rh=rh)\np.add_layer(data, cmap='YlOrRd_r')\nfig = p.build()\nfig.show()"
      ]
    },
    {
      "cell_type": "markdown",
      "metadata": {},
      "source": [
        "Note that passing a single array **assumes it goes from the left hemisphere \nto the right**. If we want to plot just one hemisphere, then we have to \nupdate our data accordingly. Be sure to plot the correct data!\n\n"
      ]
    },
    {
      "cell_type": "code",
      "execution_count": null,
      "metadata": {
        "collapsed": false
      },
      "outputs": [],
      "source": [
        "p = Plot(surf_lh=lh, zoom=1.2, size=(400, 200))\n# left hemisphere is the first 32492 vertices \np.add_layer(data[:32492], cmap='YlOrRd_r')\nfig = p.build()\nfig.show()\n# sphinx_gallery_thumbnail_number = 2"
      ]
    },
    {
      "cell_type": "markdown",
      "metadata": {},
      "source": [
        "## Using a dictionary\n\nTo be explicit about which data is passed to which hemisphere, it is also \npossible to use a dictionary to assign data to a hemisphere. The dictionary\n**must** have 'left' and/or 'right' keys only. This is exactly how data was\npassed to the final figure in \n`sphx_glr_auto_examples_plot_tutorial_01.py`. Note that the length of \neach array must equal the number of vertices in their respective hemispheres.\n\n"
      ]
    },
    {
      "cell_type": "code",
      "execution_count": null,
      "metadata": {
        "collapsed": false
      },
      "outputs": [],
      "source": [
        "# return as separate arrays for each hemisphere\nlh_data, rh_data = load_example_data()\n\np = Plot(surf_lh=lh, surf_rh=rh)\np.add_layer({'left': lh_data, 'right': rh_data}, cmap='YlOrRd_r')\nfig = p.build()\nfig.show()"
      ]
    },
    {
      "cell_type": "markdown",
      "metadata": {},
      "source": [
        "Using a dictionary, we can also only plot data for a specific hemisphere, \ne.g., the right:\n\n"
      ]
    },
    {
      "cell_type": "code",
      "execution_count": null,
      "metadata": {
        "collapsed": false
      },
      "outputs": [],
      "source": [
        "p = Plot(surf_lh=lh, surf_rh=rh)\np.add_layer({'right': rh_data}, cmap='YlOrRd_r')\nfig = p.build()\nfig.show()"
      ]
    },
    {
      "cell_type": "markdown",
      "metadata": {},
      "source": [
        "Using dictionaries is necessary when plotting data from left and/or right \nGIFTI files, which we'll cover in the next section.\n\n## File names\n\nIt is possible to directly pass in file names, assuming that they're valid\nand readable with ``nibabel``. These files must be either GIFTI or CIFTI \nimages. When plotting both hemispheres, you will need a dictionary to assign \neach each GIFTI to a hemisphere. To test this out, let's get the downloaded\nsulc maps and add them: \n\n"
      ]
    },
    {
      "cell_type": "code",
      "execution_count": null,
      "metadata": {
        "collapsed": false
      },
      "outputs": [],
      "source": [
        "lh_sulc, rh_sulc = surfaces['sulc']\np = Plot(surf_lh=lh, surf_rh=rh)\np.add_layer({'left': lh_sulc, 'right': rh_sulc}, cmap='binary_r', cbar=False)\nfig = p.build()\nfig.show()"
      ]
    },
    {
      "cell_type": "markdown",
      "metadata": {},
      "source": [
        "## Loaded files\n\nFinally, if a file was already loaded into Python using ``nibabel``, then it\ncan also be plotted. For example, with single hemisphere:\n\n"
      ]
    },
    {
      "cell_type": "code",
      "execution_count": null,
      "metadata": {
        "collapsed": false
      },
      "outputs": [],
      "source": [
        "img = nib.load(lh_sulc)\n\np = Plot(surf_lh=lh, zoom=1.2, size=(400, 200))\np.add_layer(img, cmap='binary_r', cbar=False)\nfig = p.build()\nfig.show()"
      ]
    },
    {
      "cell_type": "markdown",
      "metadata": {},
      "source": [
        "Altogether, this flexibility makes it easy to plot data in a variety of \ndifferent workflows and usecases. As always, be sure to check that the data\nis passed to the correct hemisphere, and that the number of vertices in the\ndata match the number of vertices of the surface(s)!\n"
      ]
    }
  ],
  "metadata": {
    "kernelspec": {
      "display_name": "Python 3",
      "language": "python",
      "name": "python3"
    },
    "language_info": {
      "codemirror_mode": {
        "name": "ipython",
        "version": 3
      },
      "file_extension": ".py",
      "mimetype": "text/x-python",
      "name": "python",
      "nbconvert_exporter": "python",
      "pygments_lexer": "ipython3",
      "version": "3.8.15"
    }
  },
  "nbformat": 4,
  "nbformat_minor": 0
}