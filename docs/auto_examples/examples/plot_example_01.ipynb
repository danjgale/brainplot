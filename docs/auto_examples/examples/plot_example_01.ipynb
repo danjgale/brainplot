{
  "cells": [
    {
      "cell_type": "code",
      "execution_count": null,
      "metadata": {
        "collapsed": false
      },
      "outputs": [],
      "source": [
        "%matplotlib inline"
      ]
    },
    {
      "cell_type": "markdown",
      "metadata": {},
      "source": [
        "\n\n# Example 1: Multiple Stat Maps\n\nThis example shows multiple statistical maps on a surface with some extra \nstylizing for a clean-looking figure.\n"
      ]
    },
    {
      "cell_type": "code",
      "execution_count": null,
      "metadata": {
        "collapsed": false
      },
      "outputs": [],
      "source": [
        "# Code source: Dan Gale\n# License: BSD 3 clause\n\nfrom surfplot import Plot\nfrom surfplot.datasets import load_example_data\nfrom neuromaps.datasets import fetch_fslr\n\nsurfaces = fetch_fslr()\nlh, rh = surfaces['inflated']\n\np = Plot(lh, rh)\n\n# shading\nlh_sulc, rh_sulc = surfaces['sulc']\np.add_layer({'left': lh_sulc, 'right': rh_sulc}, cmap='binary_r', cbar=False)\n\ncolor_range = (0, 12)\n\n# add default mode association stats\ndefault = load_example_data(join=True)\np.add_layer(default, cmap='Blues_r', color_range=color_range, \n            cbar_label='Default mode')\n\n# add frontoparietal assocation stats\nfronto = load_example_data('frontoparietal', join=True)\np.add_layer(fronto, cmap='Greens_r', color_range=color_range, \n            cbar_label='Frontoparietal')\n\n# create a clean looking set of colorbars. Only show labels for outer colorbar,\n# given that both colorbars have the same range. \ncbar_kws = dict(outer_labels_only=True, pad=.02, n_ticks=2, decimals=0)\nfig = p.build(cbar_kws=cbar_kws)\n# add units to colorbar\nfig.axes[1].set_xlabel('z', labelpad=-11, fontstyle='italic')\nfig.show()"
      ]
    }
  ],
  "metadata": {
    "kernelspec": {
      "display_name": "Python 3",
      "language": "python",
      "name": "python3"
    },
    "language_info": {
      "codemirror_mode": {
        "name": "ipython",
        "version": 3
      },
      "file_extension": ".py",
      "mimetype": "text/x-python",
      "name": "python",
      "nbconvert_exporter": "python",
      "pygments_lexer": "ipython3",
      "version": "3.8.15"
    }
  },
  "nbformat": 4,
  "nbformat_minor": 0
}